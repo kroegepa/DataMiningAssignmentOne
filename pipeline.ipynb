{
 "cells": [
  {
   "cell_type": "markdown",
   "metadata": {},
   "source": [
    "### Reading old dataset"
   ]
  },
  {
   "cell_type": "code",
   "execution_count": 1,
   "metadata": {},
   "outputs": [],
   "source": [
    "import pandas as pd\n",
    "\n",
    "df = pd.read_csv(\"per_day_participant_dataset.csv\")"
   ]
  },
  {
   "cell_type": "code",
   "execution_count": null,
   "metadata": {},
   "outputs": [],
   "source": [
    "df.head(5)"
   ]
  },
  {
   "cell_type": "markdown",
   "metadata": {},
   "source": [
    "# Creating new aggregated dataset"
   ]
  },
  {
   "cell_type": "markdown",
   "metadata": {},
   "source": [
    "## Removing NaN values"
   ]
  },
  {
   "cell_type": "code",
   "execution_count": 23,
   "metadata": {},
   "outputs": [],
   "source": [
    "import dataset_tools as dt\n",
    "import pandas as pd\n"
   ]
  },
  {
   "cell_type": "code",
   "execution_count": 24,
   "metadata": {},
   "outputs": [
    {
     "name": "stdout",
     "output_type": "stream",
     "text": [
      "the count of rows in the raw dataset is 376912\n"
     ]
    }
   ],
   "source": [
    "raw_df = pd.read_csv(\"dataset_mood_smartphone.csv\")\n",
    "print(f\"the count of rows in the raw dataset is {len(raw_df)}\")"
   ]
  },
  {
   "cell_type": "code",
   "execution_count": 25,
   "metadata": {},
   "outputs": [
    {
     "name": "stdout",
     "output_type": "stream",
     "text": [
      "the count of rows in the raw dataset after dropping nan values is 376710\n"
     ]
    }
   ],
   "source": [
    "# drop nan values\n",
    "raw_df = raw_df.dropna()\n",
    "print(f\"the count of rows in the raw dataset after dropping nan values is {len(raw_df)}\")\n",
    "# save it to csv\n",
    "raw_df.to_csv(\"dataset_mood_smartphone_no_nan.csv\")"
   ]
  },
  {
   "cell_type": "markdown",
   "metadata": {},
   "source": [
    "## Fixing outliers and negative values"
   ]
  },
  {
   "cell_type": "code",
   "execution_count": 7,
   "metadata": {},
   "outputs": [],
   "source": [
    "dt.transform_data(\"dataset_mood_smartphone_no_nan.csv\", \"dataset_mood_smartphone_co.csv\")\n"
   ]
  },
  {
   "cell_type": "markdown",
   "metadata": {},
   "source": [
    "## Aggregating the data in time intervals"
   ]
  },
  {
   "cell_type": "code",
   "execution_count": null,
   "metadata": {},
   "outputs": [],
   "source": [
    "transformed_df = pd.read_csv(\"dataset_mood_smartphone_co.csv\")\n",
    "\n",
    "dt.create_per_interval_and_participant_dataset(transformed_df, \"per_day_partecipant_dataset_co.csv\", 24)# interval of 24 hours\n"
   ]
  },
  {
   "cell_type": "code",
   "execution_count": 9,
   "metadata": {},
   "outputs": [],
   "source": [
    "count_var_names = [\"mood_count\", \"circumplex.arousal_count\", \"circumplex.valence_count\", \"activity_count\",\n",
    "                   \"screen_count\", \"call_count\", \"sms_count\", \"appCat.builtin_count\", \"appCat.communication_count\",\n",
    "                   \"appCat.entertainment_count\", \"appCat.finance_count\", \"appCat.game_count\", \"appCat.office_count\",\n",
    "                   \"appCat.other_count\", \"appCat.social_count\", \"appCat.travel_count\", \"appCat.unknown_count\",\n",
    "                   \"appCat.utilities_count\", \"appCat.weather_count\"]"
   ]
  },
  {
   "cell_type": "code",
   "execution_count": 16,
   "metadata": {},
   "outputs": [],
   "source": [
    "var_names = ['mood', 'circumplex.arousal', 'circumplex.valence', 'activity', \"screen\",\n",
    "             'call', 'sms', 'appCat.builtin', 'appCat.communication',\n",
    "             'appCat.entertainment', 'appCat.finance', 'appCat.game', 'appCat.office',\n",
    "             'appCat.other', 'appCat.social', 'appCat.travel', 'appCat.unknown',\n",
    "             'appCat.utilities', 'appCat.weather']\n",
    "\n",
    "avarage_vars = var_names[0:4]\n",
    "sum_vars = var_names[4:]"
   ]
  },
  {
   "cell_type": "code",
   "execution_count": 20,
   "metadata": {},
   "outputs": [],
   "source": [
    "aggregated_dataset = pd.read_csv(\"per_day_participant_dataset_co.csv\")"
   ]
  },
  {
   "cell_type": "code",
   "execution_count": 21,
   "metadata": {},
   "outputs": [],
   "source": [
    "for var_name in avarage_vars:\n",
    "        aggregated_dataset[var_name] = aggregated_dataset[var_name] / aggregated_dataset[var_name + \"_count\"]\n",
    "\n",
    "aggregated_dataset = aggregated_dataset.drop(columns=count_var_names)\n",
    "        "
   ]
  },
  {
   "cell_type": "code",
   "execution_count": 26,
   "metadata": {},
   "outputs": [],
   "source": [
    "# save the aggregated dataset\n",
    "\n",
    "aggregated_dataset.to_csv(\"aggregated_dataset.csv\")"
   ]
  }
 ],
 "metadata": {
  "kernelspec": {
   "display_name": ".venv",
   "language": "python",
   "name": "python3"
  },
  "language_info": {
   "codemirror_mode": {
    "name": "ipython",
    "version": 3
   },
   "file_extension": ".py",
   "mimetype": "text/x-python",
   "name": "python",
   "nbconvert_exporter": "python",
   "pygments_lexer": "ipython3",
   "version": "3.12.2"
  }
 },
 "nbformat": 4,
 "nbformat_minor": 2
}
